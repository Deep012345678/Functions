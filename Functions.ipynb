{
 "cells": [
  {
   "cell_type": "code",
   "execution_count": 2,
   "id": "154b5dbb-27a0-4094-99a2-69a9ca7f8ff6",
   "metadata": {},
   "outputs": [
    {
     "name": "stdout",
     "output_type": "stream",
     "text": [
      "12\n"
     ]
    }
   ],
   "source": [
    "# 1. Write a Python function that takes a list of numbers as input and returns the sum of all even numbers in the list.\n",
    "def sum_of_evens(numbers):\n",
    "    return sum(num for num in numbers if num % 2 == 0)\n",
    "\n",
    "# Example usage\n",
    "numbers = [1, 2, 3, 4, 5, 6]\n",
    "print(sum_of_evens(numbers))  # Output: 12\n"
   ]
  },
  {
   "cell_type": "code",
   "execution_count": 3,
   "id": "f7d7f2e3-4032-4db7-a341-f4cf4270875e",
   "metadata": {},
   "outputs": [
    {
     "name": "stdout",
     "output_type": "stream",
     "text": [
      "nohtyP\n"
     ]
    }
   ],
   "source": [
    "# 2. Create a Python function that accepts a string and returns the reverse of that string.\n",
    "def reverse_string(s):\n",
    "    return s[::-1]\n",
    "\n",
    "# Example usage\n",
    "text = \"Python\"\n",
    "print(reverse_string(text))  # Output: nohtyP\n"
   ]
  },
  {
   "cell_type": "code",
   "execution_count": 4,
   "id": "127ff20a-7435-40d6-9ebe-b660ea03e895",
   "metadata": {},
   "outputs": [
    {
     "name": "stdout",
     "output_type": "stream",
     "text": [
      "[1, 4, 9, 16]\n"
     ]
    }
   ],
   "source": [
    "# 3. Implement a Python function that takes a list of integers and returns a new list containing the squares of each number.\n",
    "def square_numbers(numbers):\n",
    "    return [num ** 2 for num in numbers]\n",
    "\n",
    "# Example usage\n",
    "nums = [1, 2, 3, 4]\n",
    "print(square_numbers(nums))  # Output: [1, 4, 9, 16]\n"
   ]
  },
  {
   "cell_type": "code",
   "execution_count": 5,
   "id": "658d95ff-a204-4aae-90f2-9219c1fa5020",
   "metadata": {},
   "outputs": [
    {
     "name": "stdout",
     "output_type": "stream",
     "text": [
      "0 1 1 2 3 5 8 13 21 34 "
     ]
    }
   ],
   "source": [
    "# 5. Create an iterator class in Python that generates the Fibonacci sequence up to a specified number of terms.\n",
    "class FibonacciIterator:\n",
    "    def __init__(self, terms):\n",
    "        self.terms = terms\n",
    "        self.a, self.b = 0, 1\n",
    "        self.current = 0\n",
    "\n",
    "    def __iter__(self):\n",
    "        return self\n",
    "\n",
    "    def __next__(self):\n",
    "        if self.current >= self.terms:\n",
    "            raise StopIteration\n",
    "        value = self.a\n",
    "        self.a, self.b = self.b, self.a + self.b\n",
    "        self.current += 1\n",
    "        return value\n",
    "\n",
    "# Example usage\n",
    "fib = FibonacciIterator(10)\n",
    "for num in fib:\n",
    "    print(num, end=\" \")  # Output: 0 1 1 2 3 5 8 13 21 34\n"
   ]
  },
  {
   "cell_type": "code",
   "execution_count": 6,
   "id": "0f709996-ffe5-43e3-84b7-2438ab110cfe",
   "metadata": {},
   "outputs": [
    {
     "name": "stdout",
     "output_type": "stream",
     "text": [
      "1\n",
      "2\n",
      "4\n",
      "8\n",
      "16\n",
      "32\n"
     ]
    }
   ],
   "source": [
    "# 6. Write a generator function in Python that yields the powers of 2 up to a given exponent.\n",
    "def powers_of_two(max_exponent):\n",
    "    for i in range(max_exponent + 1):\n",
    "        yield 2 ** i\n",
    "\n",
    "# Example usage\n",
    "for power in powers_of_two(5):\n",
    "    print(power)  # Output: 1 2 4 8 16 32\n"
   ]
  },
  {
   "cell_type": "code",
   "execution_count": 18,
   "id": "417d0e6d-e8da-4330-a645-ea969b0e6b04",
   "metadata": {},
   "outputs": [],
   "source": [
    "# 7. Implement a generator function that reads a file line by line and yields each line as a string.\n",
    "def read_file_line_by_line(filepath):\n",
    "    with open(filepath, 'r') as file:\n",
    "        for line in file:\n",
    "            yield line.strip()"
   ]
  },
  {
   "cell_type": "code",
   "execution_count": 13,
   "id": "0a0aecc4-3a8f-46a6-835d-b820c81dc4f4",
   "metadata": {},
   "outputs": [
    {
     "name": "stdout",
     "output_type": "stream",
     "text": [
      "[(3, 'a'), (1, 'b'), (2, 'c')]\n"
     ]
    }
   ],
   "source": [
    "# 8. Use a lambda function in Python to sort a list of tuples based on the second element of each tuple.\n",
    "tuples = [(1, 'b'), (3, 'a'), (2, 'c')]\n",
    "sorted_tuples = sorted(tuples, key=lambda x: x[1])\n",
    "print(sorted_tuples)  # Output: [(3, 'a'), (1, 'b'), (2, 'c')]\n"
   ]
  },
  {
   "cell_type": "code",
   "execution_count": 14,
   "id": "bdd9c1df-49ea-4db5-82f1-d8bcf1cde002",
   "metadata": {},
   "outputs": [
    {
     "name": "stdout",
     "output_type": "stream",
     "text": [
      "[32.0, 68.0, 86.0, 104.0]\n"
     ]
    }
   ],
   "source": [
    "# 9. Write a Python program that converts a list of temperatures from Celsius to Fahrenheit.\n",
    "temperatures_c = [0, 20, 30, 40]\n",
    "temperatures_f = list(map(lambda c: (c * 9/5) + 32, temperatures_c))\n",
    "print(temperatures_f)  # Output: [32.0, 68.0, 86.0, 104.0]\n"
   ]
  },
  {
   "cell_type": "code",
   "execution_count": 15,
   "id": "6827aa6e-f11d-4302-9a85-29ca00d026d6",
   "metadata": {},
   "outputs": [
    {
     "name": "stdout",
     "output_type": "stream",
     "text": [
      "[(34587, 163.8), (98762, 284.0), (77226, 108.85000000000001), (88112, 84.97)]\n"
     ]
    }
   ],
   "source": [
    "# 11. Accounting routine for a bookshop using lambda and map.\n",
    "orders = [\n",
    "    [34587, 'Learning Python, Mark Lutz', 4, 40.95],\n",
    "    [98762, 'Programming Python, Mark Lutz', 5, 56.80],\n",
    "    [77226, 'Head First Python, Paul Barry', 3, 32.95],\n",
    "    [88112, 'Einführung in Python3, Bernd Klein', 3, 24.99]\n",
    "]\n",
    "\n",
    "result = list(map(lambda order: \n",
    "                  (order[0], order[2] * order[3] + 10 if order[2] * order[3] < 100 else order[2] * order[3]),\n",
    "                  orders))\n",
    "\n",
    "print(result)\n",
    "# Output: [(34587, 163.8), (98762, 284.0), (77226, 108.85), (88112, 84.97)]\n"
   ]
  },
  {
   "cell_type": "code",
   "execution_count": 20,
   "id": "e4b5bf37-638b-4eb5-8eac-560cd795343e",
   "metadata": {},
   "outputs": [
    {
     "name": "stdout",
     "output_type": "stream",
     "text": [
      "[2, 3, 5, 7, 11, 13, 17, 19, 23, 29, 31, 37, 41, 43, 47, 53, 59, 61, 67, 71, 73, 79, 83, 89, 97, 101, 103, 107, 109, 113, 127, 131, 137, 139, 149, 151, 157, 163, 167, 173, 179, 181, 191, 193, 197, 199]\n"
     ]
    }
   ],
   "source": [
    "# 4. Write a Python function that checks if a given number is prime or not from 1 to 200.\n",
    "def is_prime(n):\n",
    "    if n <= 1:\n",
    "        return False\n",
    "    for i in range(2, int(n ** 0.5) + 1):\n",
    "        if n % i == 0:\n",
    "            return False\n",
    "    return True\n",
    "\n",
    "# Check prime numbers from 1 to 200\n",
    "prime_numbers = [n for n in range(1, 201) if is_prime(n)]\n",
    "print(prime_numbers)"
   ]
  },
  {
   "cell_type": "code",
   "execution_count": null,
   "id": "ad55c9a3-d74a-43f1-af98-b443a92b54f3",
   "metadata": {},
   "outputs": [],
   "source": []
  }
 ],
 "metadata": {
  "kernelspec": {
   "display_name": "Python 3 (ipykernel)",
   "language": "python",
   "name": "python3"
  },
  "language_info": {
   "codemirror_mode": {
    "name": "ipython",
    "version": 3
   },
   "file_extension": ".py",
   "mimetype": "text/x-python",
   "name": "python",
   "nbconvert_exporter": "python",
   "pygments_lexer": "ipython3",
   "version": "3.12.7"
  }
 },
 "nbformat": 4,
 "nbformat_minor": 5
}
